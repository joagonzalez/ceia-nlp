{
 "cells": [
  {
   "cell_type": "markdown",
   "metadata": {
    "id": "sZd5yLnnHOK0"
   },
   "source": [
    "<img src=\"https://github.com/hernancontigiani/ceia_memorias_especializacion/raw/master/Figures/logoFIUBA.jpg\" width=\"500\" align=\"center\">\n",
    "\n",
    "\n",
    "# Procesamiento de lenguaje natural\n",
    "## Custom embedddings con Gensim\n",
    "\n"
   ]
  },
  {
   "cell_type": "markdown",
   "metadata": {
    "id": "vA7nqkumo9z9"
   },
   "source": [
    "### Objetivo\n",
    "El objetivo es utilizar documentos / corpus para crear embeddings de palabras basado en ese contexto. Se utilizará canciones de bandas para generar los embeddings, es decir, que los vectores tendrán la forma en función de como esa banda haya utilizado las palabras en sus canciones."
   ]
  },
  {
   "cell_type": "code",
   "execution_count": 20,
   "metadata": {
    "id": "lFToQs5FK5uZ"
   },
   "outputs": [],
   "source": [
    "import keras\n",
    "import pandas as pd\n",
    "import seaborn as sns\n",
    "import multiprocessing\n",
    "import matplotlib.pyplot as plt\n",
    "from gensim.models import Word2Vec"
   ]
  },
  {
   "cell_type": "markdown",
   "metadata": {
    "id": "g07zJxG7H9vG"
   },
   "source": [
    "### Datos\n",
    "Utilizaremos como dataset canciones de bandas de habla inglesa."
   ]
  },
  {
   "cell_type": "code",
   "execution_count": 21,
   "metadata": {
    "id": "l7z4CSBfpR3X"
   },
   "outputs": [
    {
     "name": "stdout",
     "output_type": "stream",
     "text": [
      "El dataset ya se encuentra descargado\n"
     ]
    }
   ],
   "source": [
    "# Descargar la carpeta de dataset\n",
    "import os\n",
    "import platform\n",
    "if os.access('./songs_dataset', os.F_OK) is False:\n",
    "    if os.access('songs_dataset.zip', os.F_OK) is False:\n",
    "        if platform.system() == 'Windows':\n",
    "            !curl https://raw.githubusercontent.com/FIUBA-Posgrado-Inteligencia-Artificial/procesamiento_lenguaje_natural/main/datasets/songs_dataset.zip -o songs_dataset.zip\n",
    "        else:\n",
    "            !wget songs_dataset.zip https://github.com/FIUBA-Posgrado-Inteligencia-Artificial/procesamiento_lenguaje_natural/raw/main/datasets/songs_dataset.zip\n",
    "    !unzip -q songs_dataset.zip   \n",
    "else:\n",
    "    print(\"El dataset ya se encuentra descargado\")"
   ]
  },
  {
   "cell_type": "code",
   "execution_count": 22,
   "metadata": {
    "id": "mysGrIw9ljC2"
   },
   "outputs": [
    {
     "data": {
      "text/plain": [
       "['jimi-hendrix.txt',\n",
       " 'prince.txt',\n",
       " 'drake.txt',\n",
       " 'leonard-cohen.txt',\n",
       " 'beatles.txt',\n",
       " 'michael-jackson.txt',\n",
       " 'notorious-big.txt',\n",
       " 'kanye-west.txt',\n",
       " 'al-green.txt',\n",
       " 'lil-wayne.txt',\n",
       " 'janisjoplin.txt',\n",
       " 'blink-182.txt',\n",
       " 'amy-winehouse.txt',\n",
       " 'dickinson.txt',\n",
       " 'dolly-parton.txt',\n",
       " 'cake.txt',\n",
       " 'r-kelly.txt',\n",
       " 'paul-simon.txt',\n",
       " 'alicia-keys.txt',\n",
       " 'bruce-springsteen.txt',\n",
       " 'dj-khaled.txt',\n",
       " 'lin-manuel-miranda.txt',\n",
       " 'disney.txt',\n",
       " 'bruno-mars.txt',\n",
       " 'Lil_Wayne.txt',\n",
       " 'dr-seuss.txt',\n",
       " 'bob-dylan.txt',\n",
       " 'eminem.txt',\n",
       " 'kanye.txt',\n",
       " 'lady-gaga.txt',\n",
       " 'nicki-minaj.txt',\n",
       " 'radiohead.txt',\n",
       " 'nickelback.txt',\n",
       " 'missy-elliott.txt',\n",
       " 'joni-mitchell.txt',\n",
       " 'nursery_rhymes.txt',\n",
       " 'bjork.txt',\n",
       " 'patti-smith.txt',\n",
       " 'ludacris.txt',\n",
       " 'bob-marley.txt',\n",
       " 'bieber.txt',\n",
       " 'rihanna.txt',\n",
       " 'johnny-cash.txt',\n",
       " 'nirvana.txt',\n",
       " 'Kanye_West.txt',\n",
       " 'britney-spears.txt',\n",
       " 'notorious_big.txt',\n",
       " 'lorde.txt',\n",
       " 'adele.txt']"
      ]
     },
     "execution_count": 22,
     "metadata": {},
     "output_type": "execute_result"
    }
   ],
   "source": [
    "# Posibles bandas\n",
    "os.listdir(\"./songs_dataset/\")"
   ]
  },
  {
   "cell_type": "code",
   "execution_count": 23,
   "metadata": {
    "id": "ticoqYD1Z3I7"
   },
   "outputs": [
    {
     "name": "stderr",
     "output_type": "stream",
     "text": [
      "/tmp/ipykernel_186901/3849064916.py:2: ParserWarning: Falling back to the 'python' engine because the 'c' engine does not support regex separators (separators > 1 char and different from '\\s+' are interpreted as regex); you can avoid this warning by specifying engine='python'.\n",
      "  df = pd.read_csv('songs_dataset/beatles.txt', sep='/n', header=None)\n"
     ]
    },
    {
     "data": {
      "text/html": [
       "<div>\n",
       "<style scoped>\n",
       "    .dataframe tbody tr th:only-of-type {\n",
       "        vertical-align: middle;\n",
       "    }\n",
       "\n",
       "    .dataframe tbody tr th {\n",
       "        vertical-align: top;\n",
       "    }\n",
       "\n",
       "    .dataframe thead th {\n",
       "        text-align: right;\n",
       "    }\n",
       "</style>\n",
       "<table border=\"1\" class=\"dataframe\">\n",
       "  <thead>\n",
       "    <tr style=\"text-align: right;\">\n",
       "      <th></th>\n",
       "      <th>0</th>\n",
       "    </tr>\n",
       "  </thead>\n",
       "  <tbody>\n",
       "    <tr>\n",
       "      <th>0</th>\n",
       "      <td>Yesterday, all my troubles seemed so far away</td>\n",
       "    </tr>\n",
       "    <tr>\n",
       "      <th>1</th>\n",
       "      <td>Now it looks as though they're here to stay</td>\n",
       "    </tr>\n",
       "    <tr>\n",
       "      <th>2</th>\n",
       "      <td>Oh, I believe in yesterday Suddenly, I'm not h...</td>\n",
       "    </tr>\n",
       "    <tr>\n",
       "      <th>3</th>\n",
       "      <td>There's a shadow hanging over me.</td>\n",
       "    </tr>\n",
       "    <tr>\n",
       "      <th>4</th>\n",
       "      <td>Oh, yesterday came suddenly Why she had to go ...</td>\n",
       "    </tr>\n",
       "  </tbody>\n",
       "</table>\n",
       "</div>"
      ],
      "text/plain": [
       "                                                   0\n",
       "0      Yesterday, all my troubles seemed so far away\n",
       "1        Now it looks as though they're here to stay\n",
       "2  Oh, I believe in yesterday Suddenly, I'm not h...\n",
       "3                  There's a shadow hanging over me.\n",
       "4  Oh, yesterday came suddenly Why she had to go ..."
      ]
     },
     "execution_count": 23,
     "metadata": {},
     "output_type": "execute_result"
    }
   ],
   "source": [
    "# Armar el dataset utilizando salto de línea para separar las oraciones/docs\n",
    "df = pd.read_csv('songs_dataset/beatles.txt', sep='/n', header=None)\n",
    "df.head()"
   ]
  },
  {
   "cell_type": "code",
   "execution_count": 24,
   "metadata": {
    "id": "LEpKubK9XzXN"
   },
   "outputs": [
    {
     "name": "stdout",
     "output_type": "stream",
     "text": [
      "Cantidad de documentos: 1846\n"
     ]
    }
   ],
   "source": [
    "print(\"Cantidad de documentos:\", df.shape[0])"
   ]
  },
  {
   "cell_type": "markdown",
   "metadata": {
    "id": "ab94qaFlrA1G"
   },
   "source": [
    "### 1 - Preprocesamiento"
   ]
  },
  {
   "cell_type": "code",
   "execution_count": 25,
   "metadata": {
    "id": "rIsmMWmjrDHd"
   },
   "outputs": [],
   "source": [
    "from tensorflow.keras.preprocessing.text import text_to_word_sequence\n",
    "\n",
    "sentence_tokens = []\n",
    "# Recorrer todas las filas y transformar las oraciones\n",
    "# en una secuencia de palabras (esto podría realizarse con NLTK o spaCy también)\n",
    "for _, row in df[:None].iterrows():\n",
    "    sentence_tokens.append(text_to_word_sequence(row[0]))"
   ]
  },
  {
   "cell_type": "code",
   "execution_count": 26,
   "metadata": {
    "id": "CHepi_DGrbhq"
   },
   "outputs": [
    {
     "data": {
      "text/plain": [
       "[['yesterday', 'all', 'my', 'troubles', 'seemed', 'so', 'far', 'away'],\n",
       " ['now', 'it', 'looks', 'as', 'though', \"they're\", 'here', 'to', 'stay']]"
      ]
     },
     "execution_count": 26,
     "metadata": {},
     "output_type": "execute_result"
    }
   ],
   "source": [
    "# Demos un vistazo\n",
    "sentence_tokens[:2]"
   ]
  },
  {
   "cell_type": "markdown",
   "metadata": {
    "id": "BaXV6nlHr5Aa"
   },
   "source": [
    "### 2 - Crear los vectores (word2vec)"
   ]
  },
  {
   "cell_type": "code",
   "execution_count": 27,
   "metadata": {
    "id": "OSb0v7h8r7hK"
   },
   "outputs": [],
   "source": [
    "from gensim.models.callbacks import CallbackAny2Vec\n",
    "# Durante el entrenamiento gensim por defecto no informa el \"loss\" en cada época\n",
    "# Sobrecargamos el callback para poder tener esta información\n",
    "class callback(CallbackAny2Vec):\n",
    "    \"\"\"\n",
    "    Callback to print loss after each epoch\n",
    "    \"\"\"\n",
    "    def __init__(self):\n",
    "        self.epoch = 0\n",
    "\n",
    "    def on_epoch_end(self, model):\n",
    "        loss = model.get_latest_training_loss()\n",
    "        if self.epoch == 0:\n",
    "            print('Loss after epoch {}: {}'.format(self.epoch, loss))\n",
    "        else:\n",
    "            print('Loss after epoch {}: {}'.format(self.epoch, loss- self.loss_previous_step))\n",
    "        self.epoch += 1\n",
    "        self.loss_previous_step = loss"
   ]
  },
  {
   "cell_type": "code",
   "execution_count": 28,
   "metadata": {
    "id": "i0wnDdv9sJ47"
   },
   "outputs": [],
   "source": [
    "# Crearmos el modelo generador de vectores\n",
    "# En este caso utilizaremos la estructura modelo Skipgram\n",
    "w2v_model = Word2Vec(min_count=5,    # frecuencia mínima de palabra para incluirla en el vocabulario\n",
    "                     window=2,       # cant de palabras antes y desp de la predicha\n",
    "                     vector_size=300,       # dimensionalidad de los vectores \n",
    "                     negative=20,    # cantidad de negative samples... 0 es no se usa\n",
    "                     workers=1,      # si tienen más cores pueden cambiar este valor\n",
    "                     sg=1)           # modelo 0:CBOW  1:skipgram"
   ]
  },
  {
   "cell_type": "code",
   "execution_count": 29,
   "metadata": {
    "id": "5lTt8wErsf17"
   },
   "outputs": [],
   "source": [
    "# Obtener el vocabulario con los tokens\n",
    "w2v_model.build_vocab(sentence_tokens)"
   ]
  },
  {
   "cell_type": "code",
   "execution_count": 30,
   "metadata": {
    "id": "TNc9qt4os5AT"
   },
   "outputs": [
    {
     "name": "stdout",
     "output_type": "stream",
     "text": [
      "Cantidad de docs en el corpus: 1846\n"
     ]
    }
   ],
   "source": [
    "# Cantidad de filas/docs encontradas en el corpus\n",
    "print(\"Cantidad de docs en el corpus:\", w2v_model.corpus_count)"
   ]
  },
  {
   "cell_type": "code",
   "execution_count": 31,
   "metadata": {
    "id": "idw9cHF3tSMl"
   },
   "outputs": [
    {
     "name": "stdout",
     "output_type": "stream",
     "text": [
      "Cantidad de words distintas en el corpus: 445\n"
     ]
    }
   ],
   "source": [
    "# Cantidad de words encontradas en el corpus\n",
    "print(\"Cantidad de words distintas en el corpus:\", len(w2v_model.wv.index_to_key))"
   ]
  },
  {
   "cell_type": "markdown",
   "metadata": {
    "id": "fC9mZ8DPk-UC"
   },
   "source": [
    "### 3 - Entrenar embeddings"
   ]
  },
  {
   "cell_type": "code",
   "execution_count": 32,
   "metadata": {
    "id": "QSp-x0PAsq56"
   },
   "outputs": [
    {
     "name": "stdout",
     "output_type": "stream",
     "text": [
      "Loss after epoch 0: 113208.15625\n",
      "Loss after epoch 1: 65953.953125\n",
      "Loss after epoch 2: 65934.265625\n",
      "Loss after epoch 3: 65711.96875\n",
      "Loss after epoch 4: 63872.5\n",
      "Loss after epoch 5: 64142.46875\n",
      "Loss after epoch 6: 64058.8125\n",
      "Loss after epoch 7: 64755.4375\n",
      "Loss after epoch 8: 62585.5625\n",
      "Loss after epoch 9: 60415.25\n",
      "Loss after epoch 10: 59823.625\n",
      "Loss after epoch 11: 58930.1875\n",
      "Loss after epoch 12: 57726.4375\n",
      "Loss after epoch 13: 56493.125\n",
      "Loss after epoch 14: 55842.5625\n",
      "Loss after epoch 15: 55862.5\n",
      "Loss after epoch 16: 51695.8125\n",
      "Loss after epoch 17: 49815.5\n",
      "Loss after epoch 18: 49568.125\n",
      "Loss after epoch 19: 48959.75\n"
     ]
    },
    {
     "data": {
      "text/plain": [
       "(156986, 287740)"
      ]
     },
     "execution_count": 32,
     "metadata": {},
     "output_type": "execute_result"
    }
   ],
   "source": [
    "# Entrenamos el modelo generador de vectores\n",
    "# Utilizamos nuestro callback\n",
    "w2v_model.train(sentence_tokens,\n",
    "                 total_examples=w2v_model.corpus_count,\n",
    "                 epochs=20,\n",
    "                 compute_loss = True,\n",
    "                 callbacks=[callback()]\n",
    "                 )"
   ]
  },
  {
   "cell_type": "markdown",
   "metadata": {
    "id": "ddT9NVuNlCAe"
   },
   "source": [
    "### 4 - Ensayar"
   ]
  },
  {
   "cell_type": "code",
   "execution_count": 33,
   "metadata": {
    "id": "6cHN9xGLuPEm"
   },
   "outputs": [
    {
     "data": {
      "text/plain": [
       "[('pretty', 0.9087147116661072),\n",
       " ('sleep', 0.8649678230285645),\n",
       " ('help', 0.8594305515289307),\n",
       " ('try', 0.8456019759178162),\n",
       " ('cry', 0.8387227654457092),\n",
       " ('little', 0.8273633718490601),\n",
       " ('not', 0.8181102871894836),\n",
       " ('seems', 0.8175203204154968),\n",
       " ('twist', 0.8154979348182678),\n",
       " ('peace', 0.812263011932373)]"
      ]
     },
     "execution_count": 33,
     "metadata": {},
     "output_type": "execute_result"
    }
   ],
   "source": [
    "# Palabras que MÁS se relacionan con...:\n",
    "w2v_model.wv.most_similar(positive=[\"darling\"], topn=10)"
   ]
  },
  {
   "cell_type": "code",
   "execution_count": 34,
   "metadata": {
    "id": "47HiU5gdkdMq"
   },
   "outputs": [
    {
     "data": {
      "text/plain": [
       "[('shake', -0.21786975860595703),\n",
       " ('our', -0.24495810270309448),\n",
       " ('come', -0.2613270878791809),\n",
       " ('on', -0.26722386479377747),\n",
       " ('bang', -0.27329546213150024),\n",
       " ('five', -0.2741836607456207),\n",
       " ('six', -0.2774038314819336),\n",
       " ('baby', -0.2776353061199188),\n",
       " ('work', -0.2790372967720032),\n",
       " ('four', -0.2792743146419525)]"
      ]
     },
     "execution_count": 34,
     "metadata": {},
     "output_type": "execute_result"
    }
   ],
   "source": [
    "# Palabras que MENOS se relacionan con...:\n",
    "w2v_model.wv.most_similar(negative=[\"love\"], topn=10)"
   ]
  },
  {
   "cell_type": "code",
   "execution_count": 35,
   "metadata": {
    "id": "DT4Rvno2mD65"
   },
   "outputs": [
    {
     "data": {
      "text/plain": [
       "[('five', 0.9786694049835205),\n",
       " ('three', 0.9761051535606384),\n",
       " ('six', 0.966891348361969),\n",
       " ('two', 0.9565720558166504),\n",
       " ('seven', 0.954232931137085),\n",
       " ('sixty', 0.9003373980522156),\n",
       " ('one', 0.816501259803772),\n",
       " ('us', 0.7762899398803711),\n",
       " ('crying', 0.772737979888916),\n",
       " ('strawberry', 0.7672452330589294)]"
      ]
     },
     "execution_count": 35,
     "metadata": {},
     "output_type": "execute_result"
    }
   ],
   "source": [
    "# Palabras que MÁS se relacionan con...:\n",
    "w2v_model.wv.most_similar(positive=[\"four\"], topn=10)"
   ]
  },
  {
   "cell_type": "code",
   "execution_count": 36,
   "metadata": {
    "id": "XPLDPgzBmQXt"
   },
   "outputs": [
    {
     "data": {
      "text/plain": [
       "[(\"can't\", 0.9409592747688293),\n",
       " ('buy', 0.9399508237838745),\n",
       " ('much', 0.8996850848197937),\n",
       " ('hide', 0.8465201258659363),\n",
       " ('just', 0.8415144085884094)]"
      ]
     },
     "execution_count": 36,
     "metadata": {},
     "output_type": "execute_result"
    }
   ],
   "source": [
    "# Palabras que MÁS se relacionan con...:\n",
    "w2v_model.wv.most_similar(positive=[\"money\"], topn=5)"
   ]
  },
  {
   "cell_type": "code",
   "execution_count": 37,
   "metadata": {
    "id": "L_UvHPMMklOr"
   },
   "outputs": [
    {
     "ename": "KeyError",
     "evalue": "\"Key 'diedaa' not present in vocabulary\"",
     "output_type": "error",
     "traceback": [
      "\u001b[0;31m---------------------------------------------------------------------------\u001b[0m",
      "\u001b[0;31mKeyError\u001b[0m                                  Traceback (most recent call last)",
      "Cell \u001b[0;32mIn[37], line 2\u001b[0m\n\u001b[1;32m      1\u001b[0m \u001b[38;5;66;03m# Ensayar con una palabra que no está en el vocabulario:\u001b[39;00m\n\u001b[0;32m----> 2\u001b[0m \u001b[43mw2v_model\u001b[49m\u001b[38;5;241;43m.\u001b[39;49m\u001b[43mwv\u001b[49m\u001b[38;5;241;43m.\u001b[39;49m\u001b[43mmost_similar\u001b[49m\u001b[43m(\u001b[49m\u001b[43mnegative\u001b[49m\u001b[38;5;241;43m=\u001b[39;49m\u001b[43m[\u001b[49m\u001b[38;5;124;43m\"\u001b[39;49m\u001b[38;5;124;43mdiedaa\u001b[39;49m\u001b[38;5;124;43m\"\u001b[39;49m\u001b[43m]\u001b[49m\u001b[43m)\u001b[49m\n",
      "File \u001b[0;32m~/dev/.virtualenv/ceia-nlp/lib/python3.10/site-packages/gensim/models/keyedvectors.py:841\u001b[0m, in \u001b[0;36mKeyedVectors.most_similar\u001b[0;34m(self, positive, negative, topn, clip_start, clip_end, restrict_vocab, indexer)\u001b[0m\n\u001b[1;32m    838\u001b[0m         weight[idx] \u001b[38;5;241m=\u001b[39m item[\u001b[38;5;241m1\u001b[39m]\n\u001b[1;32m    840\u001b[0m \u001b[38;5;66;03m# compute the weighted average of all keys\u001b[39;00m\n\u001b[0;32m--> 841\u001b[0m mean \u001b[38;5;241m=\u001b[39m \u001b[38;5;28;43mself\u001b[39;49m\u001b[38;5;241;43m.\u001b[39;49m\u001b[43mget_mean_vector\u001b[49m\u001b[43m(\u001b[49m\u001b[43mkeys\u001b[49m\u001b[43m,\u001b[49m\u001b[43m \u001b[49m\u001b[43mweight\u001b[49m\u001b[43m,\u001b[49m\u001b[43m \u001b[49m\u001b[43mpre_normalize\u001b[49m\u001b[38;5;241;43m=\u001b[39;49m\u001b[38;5;28;43;01mTrue\u001b[39;49;00m\u001b[43m,\u001b[49m\u001b[43m \u001b[49m\u001b[43mpost_normalize\u001b[49m\u001b[38;5;241;43m=\u001b[39;49m\u001b[38;5;28;43;01mTrue\u001b[39;49;00m\u001b[43m,\u001b[49m\u001b[43m \u001b[49m\u001b[43mignore_missing\u001b[49m\u001b[38;5;241;43m=\u001b[39;49m\u001b[38;5;28;43;01mFalse\u001b[39;49;00m\u001b[43m)\u001b[49m\n\u001b[1;32m    842\u001b[0m all_keys \u001b[38;5;241m=\u001b[39m [\n\u001b[1;32m    843\u001b[0m     \u001b[38;5;28mself\u001b[39m\u001b[38;5;241m.\u001b[39mget_index(key) \u001b[38;5;28;01mfor\u001b[39;00m key \u001b[38;5;129;01min\u001b[39;00m keys \u001b[38;5;28;01mif\u001b[39;00m \u001b[38;5;28misinstance\u001b[39m(key, _KEY_TYPES) \u001b[38;5;129;01mand\u001b[39;00m \u001b[38;5;28mself\u001b[39m\u001b[38;5;241m.\u001b[39mhas_index_for(key)\n\u001b[1;32m    844\u001b[0m ]\n\u001b[1;32m    846\u001b[0m \u001b[38;5;28;01mif\u001b[39;00m indexer \u001b[38;5;129;01mis\u001b[39;00m \u001b[38;5;129;01mnot\u001b[39;00m \u001b[38;5;28;01mNone\u001b[39;00m \u001b[38;5;129;01mand\u001b[39;00m \u001b[38;5;28misinstance\u001b[39m(topn, \u001b[38;5;28mint\u001b[39m):\n",
      "File \u001b[0;32m~/dev/.virtualenv/ceia-nlp/lib/python3.10/site-packages/gensim/models/keyedvectors.py:518\u001b[0m, in \u001b[0;36mKeyedVectors.get_mean_vector\u001b[0;34m(self, keys, weights, pre_normalize, post_normalize, ignore_missing)\u001b[0m\n\u001b[1;32m    516\u001b[0m         total_weight \u001b[38;5;241m+\u001b[39m\u001b[38;5;241m=\u001b[39m \u001b[38;5;28mabs\u001b[39m(weights[idx])\n\u001b[1;32m    517\u001b[0m     \u001b[38;5;28;01melif\u001b[39;00m \u001b[38;5;129;01mnot\u001b[39;00m ignore_missing:\n\u001b[0;32m--> 518\u001b[0m         \u001b[38;5;28;01mraise\u001b[39;00m \u001b[38;5;167;01mKeyError\u001b[39;00m(\u001b[38;5;124mf\u001b[39m\u001b[38;5;124m\"\u001b[39m\u001b[38;5;124mKey \u001b[39m\u001b[38;5;124m'\u001b[39m\u001b[38;5;132;01m{\u001b[39;00mkey\u001b[38;5;132;01m}\u001b[39;00m\u001b[38;5;124m'\u001b[39m\u001b[38;5;124m not present in vocabulary\u001b[39m\u001b[38;5;124m\"\u001b[39m)\n\u001b[1;32m    520\u001b[0m \u001b[38;5;28;01mif\u001b[39;00m total_weight \u001b[38;5;241m>\u001b[39m \u001b[38;5;241m0\u001b[39m:\n\u001b[1;32m    521\u001b[0m     mean \u001b[38;5;241m=\u001b[39m mean \u001b[38;5;241m/\u001b[39m total_weight\n",
      "\u001b[0;31mKeyError\u001b[0m: \"Key 'diedaa' not present in vocabulary\""
     ]
    }
   ],
   "source": [
    "# Ensayar con una palabra que no está en el vocabulario:\n",
    "w2v_model.wv.most_similar(negative=[\"diedaa\"])"
   ]
  },
  {
   "cell_type": "code",
   "execution_count": null,
   "metadata": {},
   "outputs": [
    {
     "name": "stdout",
     "output_type": "stream",
     "text": [
      "[ 0.17736822  0.21460655 -0.05408018  0.06707036  0.13059464 -0.25713933\n",
      "  0.00711611  0.26743424 -0.03100746  0.259963    0.21179457 -0.08465387\n",
      " -0.26272097  0.308386   -0.07934437 -0.13357355  0.2994755   0.18062147\n",
      " -0.13111673 -0.11857472  0.03468326  0.1125607   0.08478875  0.08090881\n",
      " -0.17622267  0.03122034 -0.08725598  0.23746666 -0.11507358 -0.29119617\n",
      " -0.03650665 -0.3322312   0.23262788  0.10366543 -0.18365337  0.08299578\n",
      "  0.14315338 -0.19761457 -0.00757894  0.1119568  -0.10421463 -0.13083619\n",
      " -0.03264419 -0.04687435  0.11330808  0.10231452 -0.16202034 -0.10347028\n",
      "  0.03659901 -0.08524423 -0.34872082 -0.02154255  0.25938764  0.16540806\n",
      "  0.0310861   0.09505633  0.24452917 -0.09859891  0.18298703  0.0645447\n",
      "  0.016967   -0.3259168  -0.04774074 -0.05418535 -0.04338397 -0.09137302\n",
      "  0.00889874  0.11636022 -0.25662988  0.05426472  0.08915784  0.04541444\n",
      "  0.20835714 -0.19101828  0.32210803  0.19337991  0.09080223 -0.00362429\n",
      " -0.18664253 -0.07053486 -0.1213743  -0.03477469 -0.15798187  0.39070287\n",
      " -0.06144987  0.11083187 -0.16213974 -0.24604863  0.15004653  0.41447446\n",
      " -0.02289782 -0.17896852 -0.07827526 -0.22193784  0.02855509  0.48533952\n",
      "  0.04447097  0.12464199 -0.04169935  0.1982593  -0.15919553 -0.08606501\n",
      "  0.1320642   0.07071835  0.30667147  0.08809892 -0.19750106  0.23502588\n",
      " -0.07388738  0.04295443 -0.24779157 -0.28854167 -0.4401632   0.00458563\n",
      " -0.07824975  0.18824083  0.05077408 -0.05739668  0.15620743 -0.48762608\n",
      "  0.1922928   0.08314091  0.04989756  0.02644576 -0.06825414  0.35304525\n",
      "  0.17191295 -0.16261117 -0.2936474   0.29585826  0.34883434  0.13242614\n",
      "  0.20136862 -0.45008007  0.10677742  0.29548344  0.05580255 -0.10513617\n",
      " -0.18692017 -0.00885901  0.01701376 -0.16563897 -0.11337513  0.06720471\n",
      "  0.15243004 -0.00960089 -0.0473961  -0.08677159 -0.07125839  0.16441917\n",
      "  0.00310922 -0.36776385  0.08532935  0.06346983 -0.02668795  0.22113207\n",
      " -0.2441667   0.02439994 -0.00925008  0.23633759 -0.10890642  0.11366176\n",
      " -0.0994612   0.21860765  0.01365219  0.01017555 -0.1882097   0.25845018\n",
      "  0.30251107  0.03778573  0.206645    0.22037302  0.16829754  0.04512674\n",
      "  0.01971447 -0.36934844  0.0328729  -0.20335236  0.12939689  0.04162559\n",
      "  0.02085797 -0.10500363 -0.17457162 -0.28335714 -0.08274048 -0.04555536\n",
      " -0.11861075 -0.03437103  0.0255297  -0.2554016   0.17146216  0.05093628\n",
      "  0.0917547  -0.06427904 -0.16107002  0.19086204 -0.10930005 -0.18050742\n",
      " -0.06337117  0.01224837 -0.09302392  0.22475737  0.30700293 -0.26619977\n",
      "  0.2305236   0.00149169  0.13293476  0.02429233  0.07883647 -0.09135374\n",
      " -0.17123872 -0.3664065   0.3834617  -0.21642369  0.30520016 -0.05142065\n",
      " -0.36278993 -0.23481902  0.05347933 -0.33067894 -0.01501467  0.07849759\n",
      "  0.01582254 -0.111112    0.25853142 -0.1510902   0.07833586  0.03887907\n",
      "  0.06565052 -0.10252414 -0.02964626 -0.17363134  0.01443172  0.14266178\n",
      " -0.2042187   0.03214323 -0.1629491   0.23105827 -0.08103111 -0.07967328\n",
      "  0.13010906 -0.15625998  0.0689413  -0.03020397 -0.04729844 -0.24360013\n",
      "  0.2185359  -0.0347794   0.05899534  0.17103592  0.02150829  0.2957355\n",
      "  0.11162414 -0.16905093 -0.18563178 -0.19697626  0.3415001   0.18426846\n",
      " -0.20898484 -0.06920402  0.02646237 -0.33699226  0.0361828  -0.02290664\n",
      " -0.04528077 -0.02644458  0.27353263  0.2873995  -0.03061444  0.13751149\n",
      "  0.05503082  0.02680384  0.05629698  0.03125441  0.27008575  0.18144625\n",
      "  0.04076385  0.18558657 -0.10238926 -0.05794458  0.04535891 -0.09978388\n",
      " -0.17145762 -0.15288326  0.09159966  0.05247529  0.00280528  0.00947132\n",
      "  0.23113796  0.0304687   0.11368281  0.35986233  0.15569495 -0.02521801\n",
      "  0.35871565  0.3222857   0.00839845  0.1805266   0.1312731  -0.31311095]\n"
     ]
    }
   ],
   "source": [
    "# el método `get_vector` permite obtener los vectores:\n",
    "vector_love = w2v_model.wv.get_vector(\"love\")\n",
    "print(vector_love)"
   ]
  },
  {
   "cell_type": "code",
   "execution_count": null,
   "metadata": {},
   "outputs": [
    {
     "data": {
      "text/plain": [
       "[('love', 1.0),\n",
       " ('babe', 0.9132986068725586),\n",
       " ('someone', 0.8914992809295654),\n",
       " ('nothing', 0.8811879754066467),\n",
       " ('need', 0.8758756518363953),\n",
       " (\"didn't\", 0.8689683079719543),\n",
       " (\"there's\", 0.8557919859886169),\n",
       " ('you', 0.8447725772857666),\n",
       " ('feed', 0.8422104716300964),\n",
       " ('somebody', 0.8385539054870605)]"
      ]
     },
     "execution_count": 24,
     "metadata": {},
     "output_type": "execute_result"
    }
   ],
   "source": [
    "# el método `most_similar` también permite comparar a partir de vectores\n",
    "w2v_model.wv.most_similar(vector_love)"
   ]
  },
  {
   "cell_type": "code",
   "execution_count": null,
   "metadata": {},
   "outputs": [
    {
     "data": {
      "text/plain": [
       "[('babe', 0.9132986068725586),\n",
       " ('someone', 0.8914992809295654),\n",
       " ('nothing', 0.8811879754066467),\n",
       " ('need', 0.8758756518363953),\n",
       " (\"didn't\", 0.8689682483673096),\n",
       " (\"there's\", 0.8557919859886169),\n",
       " ('you', 0.8447725772857666),\n",
       " ('feed', 0.8422104716300964),\n",
       " ('somebody', 0.8385538458824158),\n",
       " ('hope', 0.8361446261405945)]"
      ]
     },
     "execution_count": 25,
     "metadata": {},
     "output_type": "execute_result"
    }
   ],
   "source": [
    "# Palabras que MÁS se relacionan con...:\n",
    "w2v_model.wv.most_similar(positive=[\"love\"], topn=10)"
   ]
  },
  {
   "cell_type": "markdown",
   "metadata": {
    "id": "_g8UVWe6lFmh"
   },
   "source": [
    "### 5 - Visualizar agrupación de vectores"
   ]
  },
  {
   "cell_type": "code",
   "execution_count": 40,
   "metadata": {
    "id": "pDxEVXAivjr9"
   },
   "outputs": [],
   "source": [
    "from sklearn.decomposition import IncrementalPCA    \n",
    "from sklearn.manifold import TSNE                   \n",
    "import numpy as np                                  \n",
    "\n",
    "def reduce_dimensions(model, num_dimensions = 2 ):\n",
    "     \n",
    "    vectors = np.asarray(model.wv.vectors)\n",
    "    labels = np.asarray(model.wv.index_to_key)  \n",
    "\n",
    "    tsne = TSNE(n_components=num_dimensions, random_state=0)\n",
    "    vectors = tsne.fit_transform(vectors)\n",
    "\n",
    "    return vectors, labels"
   ]
  },
  {
   "cell_type": "code",
   "execution_count": 44,
   "metadata": {
    "id": "NCCXtDpcugmd"
   },
   "outputs": [
    {
     "data": {
      "text/html": [
       "<html>\n",
       "<head><meta charset=\"utf-8\" /></head>\n",
       "<body>\n",
       "    <div>            <script src=\"https://cdnjs.cloudflare.com/ajax/libs/mathjax/2.7.5/MathJax.js?config=TeX-AMS-MML_SVG\"></script><script type=\"text/javascript\">if (window.MathJax && window.MathJax.Hub && window.MathJax.Hub.Config) {window.MathJax.Hub.Config({SVG: {font: \"STIX-Web\"}});}</script>                <script type=\"text/javascript\">window.PlotlyConfig = {MathJaxConfig: 'local'};</script>\n",
       "        <script charset=\"utf-8\" src=\"https://cdn.plot.ly/plotly-3.0.1.min.js\"></script>                <div id=\"a8b6c4ef-4c04-48af-a4a7-b23b5125067e\" class=\"plotly-graph-div\" style=\"height:525px; width:100%;\"></div>            <script type=\"text/javascript\">                window.PLOTLYENV=window.PLOTLYENV || {};                                if (document.getElementById(\"a8b6c4ef-4c04-48af-a4a7-b23b5125067e\")) {                    Plotly.newPlot(                        \"a8b6c4ef-4c04-48af-a4a7-b23b5125067e\",                        [{\"hovertemplate\":\"x=%{x}\\u003cbr\\u003ey=%{y}\\u003cbr\\u003etext=%{text}\\u003cextra\\u003e\\u003c\\u002fextra\\u003e\",\"legendgroup\":\"\",\"marker\":{\"color\":\"#636efa\",\"symbol\":\"circle\"},\"mode\":\"markers+text\",\"name\":\"\",\"orientation\":\"v\",\"showlegend\":false,\"text\":[\"you\",\"i\",\"the\",\"to\",\"and\",\"love\",\"a\",\"me\",\"in\",\"all\",\"nah\",\"my\",\"it\",\"know\",\"that\",\"be\",\"on\",\"of\",\"she\",\"is\",\"say\",\"now\",\"oh\",\"your\",\"yeah\",\"get\",\"don't\",\"back\",\"with\",\"let\",\"her\",\"can\",\"it's\",\"do\",\"when\",\"come\",\"i'm\",\"will\",\"he\",\"but\",\"for\",\"so\",\"there\",\"need\",\"like\",\"together\",\"no\",\"i'll\",\"see\",\"we\",\"was\",\"never\",\"down\",\"if\",\"way\",\"want\",\"hey\",\"out\",\"one\",\"got\",\"can't\",\"girl\",\"well\",\"good\",\"go\",\"sun\",\"his\",\"hello\",\"home\",\"they\",\"day\",\"are\",\"ah\",\"right\",\"from\",\"little\",\"at\",\"man\",\"help\",\"here\",\"have\",\"gonna\",\"not\",\"world\",\"what\",\"going\",\"how\",\"please\",\"still\",\"too\",\"just\",\"you're\",\"time\",\"as\",\"make\",\"long\",\"yes\",\"yellow\",\"life\",\"once\",\"sky\",\"been\",\"think\",\"tell\",\"why\",\"only\",\"where\",\"people\",\"she's\",\"eyes\",\"jude\",\"take\",\"submarine\",\"up\",\"hold\",\"goodbye\",\"give\",\"nowhere\",\"sing\",\"look\",\"friends\",\"always\",\"hand\",\"boy\",\"we're\",\"am\",\"away\",\"darling\",\"goo\",\"nothing\",\"should\",\"lonely\",\"could\",\"feel\",\"some\",\"night\",\"comes\",\"had\",\"would\",\"better\",\"head\",\"them\",\"four\",\"buy\",\"more\",\"i've\",\"la\",\"mind\",\"two\",\"this\",\"everything\",\"carry\",\"by\",\"our\",\"sunshine\",\"weight\",\"change\",\"us\",\"lucy\",\"birthday\",\"an\",\"true\",\"you'll\",\"every\",\"pretty\",\"three\",\"diamonds\",\"before\",\"believe\",\"these\",\"i'd\",\"words\",\"mm\",\"work\",\"dear\",\"leave\",\"were\",\"mine\",\"there's\",\"nobody\",\"told\",\"money\",\"bom\",\"said\",\"forever\",\"round\",\"children\",\"'cause\",\"something\",\"about\",\"waiting\",\"standing\",\"who\",\"didn't\",\"try\",\"loves\",\"then\",\"hide\",\"saw\",\"prudence\"],\"x\":{\"dtype\":\"f4\",\"bdata\":\"etLDQLDORD6zXInAMU9fQZSprj9GpxBBc2H2QLT080Bys3nA7y2ZQYc3W8Fyy4RBmQ59wUWyGsDR81ZBFw1cwcAzS0HRt9i\\u002fjDsLwd4WZ0FYMMy\\u002fYiaZQYc11j8MPFhB2uYdwZCOjUEEq1DAqkOMQTgGocDYW2PBtE0aQeaMXEAzAbxAUeBHQJvUpUBHrk9BDNM4wSkTFkGMSzTAm\\u002fenPziBAMGU5WJAxo6KQaV5GUEWJdPATr+cQSvo9D\\u002fVrsY+Blv1QNI\\u002fbb\\u002fnd4pBgMI6PyyLWcFwMYtAkbR2QXfFRUFjgU3BbiiEwZC1m8EUwdTATFQZQYTHI8G1Z3BAd5ANQV4rLUHM6wTBcBmzwGvO7L9uwIVBpgneQGhqB0HkXABBiAhZwYIwoUGB8K\\u002fB9BOswUicWsFAcA\\u002fB7PSvwUH1BMHJvRFBismJQYzOesCNlJBBZ9iFv2fhNkHlQKq\\u002fnWjdwHl\\u002fGEF8Xk9B2K61wNUQlEGb8l5BTo4mQbFiKMHS0XhBPIu2wDerxr8s\\u002fY1BQwKOQRT\\u002fwsABaAPAdo82P3227EC7RhLABSfewM0XjEGhHkPBHxIgwWX\\u002fgMAz50zBQ42zQEUmxr9jVuDA+J9OQUdL7b9t7KDAeDDtwOe36MBEqFrBdf6wwb2BMcEGDFVBqdeVQYLzC0EKmsPAO9D4QF\\u002fulMFe7GhAyxC8QL56S8APtkbBGBFRv\\u002f3+GcCxW9M\\u002fpsKvPdvcBMEKEetA4fyDQJEtK8GHMJLAyAHHveewj8FLFBlBf8wFwVmOhsDqO7xAreGJQc\\u002fSlsGxm9TAdQGGwIvfiUHjbwpB+61qQWO6CUGQ+YVBJpuQQUfBoT7bsbHAiRuSQI599kAnxjXBHFP2vwxGGEDi7Y7B0nuUwUyprcA+jkhBOiV7QBPro8DnSyJAs0nUQFQhAkF8PITBiP8NQXYHoEC1QDnAet2vQHLqkkAIycu\\u002f\\u002fluWQJi8HEG1CGtAmlEKwHGMk8B2sGVBFjAjQW0TKsFS9am\\u002fOoNcwBR22MAzSsNA9nYBwaxx5EB4oBJBdeQWwRiSXUEaVrPAo0xcQITSEUE=\"},\"xaxis\":\"x\",\"y\":{\"dtype\":\"f4\",\"bdata\":\"XlCWwayTrMHKfndBOk+7QCSVmD5YmZTBWxIwQTWZoME\\u002fTZhB8pcMQPKmlcEL\\u002fZDA40UfwSHKosGZ6zbBRgM6weM9QEAmlX9BeYXMwBs5Urzbu7XB3JsYQHDMpcHJKZHBncXowFFgGUEbiKPB3pMfQa8XqkHCe1TBEqkEwXqiUcFMfjfBfN6mwd+ipMGnLDpAlK+LwM09fMEUQN7AOlJawUUQt0AqOZXBe9tfQWhpi8F\\u002f3pPB1QtFQBv8iMHbZ3rBAmNRwb5erUHNqlhBqO2KwUEXWsFDFoPBUqA5QdIAksGSb5LBHlf3wFMVz0D9s2fBo6m6wSkqFUGMQ2LAS0ipQYP2mEF60M9BanGNQecOwMHkzR1BnIjAPyQ9rEG0uVy+SB4iQYVTKEDTNr2+T2mIvcPVNUHT1IdBekCgv6faz0HcjMK\\u002fiyQRwdj2HsFvEurAPTSbwdo8MEGPdlXBoqqewQsVg8F\\u002fslLBH5NYwVPnHMG3okPB4AKBPkXefMGSITjBa6DGwcntukGPDcm\\u002fNlBEQSoyqUHLOtZAqmOXwVZWj8FgL7LB3C6OQCKANkHhC2dBNCjzQO0nkEEd8pHByccAwWvwukHD01NBTGmZwds+vsHCbnfBgW+NQa5TG8HXDTNBjK41v1LMK8E7LpLBsEofwb0fy0DiAsnBs8kgwaO9yb\\u002fPWNVBBLaMwWESksHRD29BkPSPwcI0csFzVD1BOQkoQWjDz0G8DFNBnxJTwZfCgMEk3YlB6x4OQEisq0CvPrrB7H5XwR99OcB5aXVBtYE\\u002fwCeJuUCla6hAaX5YwZL8IsFSvCNB8dU+QVIdq0G0KCrB5E8AwawcaUFHQadBjYo7wc2oRsD2IDDB35SGwWnLfkErY6u\\u002fWOKsQFsHqUESGzvBhv6XwVslLkHoOe3AGe2YwPVbd0FpB\\u002frAdWNPQCDqFsGTY3lApqA4QbSbccE4iSzAV7qZwQcDvMFtx6RBzw+kv3UzAsHJZDPAVd+cQaKZgcCKrLQ\\u002fjoiMwCvaw0DP7wpBhiqJQbkGiMFPVh5BievcwMcebUHv5mPBY+UMwcZGS0A=\"},\"yaxis\":\"y\",\"type\":\"scatter\"}],                        {\"template\":{\"data\":{\"histogram2dcontour\":[{\"type\":\"histogram2dcontour\",\"colorbar\":{\"outlinewidth\":0,\"ticks\":\"\"},\"colorscale\":[[0.0,\"#0d0887\"],[0.1111111111111111,\"#46039f\"],[0.2222222222222222,\"#7201a8\"],[0.3333333333333333,\"#9c179e\"],[0.4444444444444444,\"#bd3786\"],[0.5555555555555556,\"#d8576b\"],[0.6666666666666666,\"#ed7953\"],[0.7777777777777778,\"#fb9f3a\"],[0.8888888888888888,\"#fdca26\"],[1.0,\"#f0f921\"]]}],\"choropleth\":[{\"type\":\"choropleth\",\"colorbar\":{\"outlinewidth\":0,\"ticks\":\"\"}}],\"histogram2d\":[{\"type\":\"histogram2d\",\"colorbar\":{\"outlinewidth\":0,\"ticks\":\"\"},\"colorscale\":[[0.0,\"#0d0887\"],[0.1111111111111111,\"#46039f\"],[0.2222222222222222,\"#7201a8\"],[0.3333333333333333,\"#9c179e\"],[0.4444444444444444,\"#bd3786\"],[0.5555555555555556,\"#d8576b\"],[0.6666666666666666,\"#ed7953\"],[0.7777777777777778,\"#fb9f3a\"],[0.8888888888888888,\"#fdca26\"],[1.0,\"#f0f921\"]]}],\"heatmap\":[{\"type\":\"heatmap\",\"colorbar\":{\"outlinewidth\":0,\"ticks\":\"\"},\"colorscale\":[[0.0,\"#0d0887\"],[0.1111111111111111,\"#46039f\"],[0.2222222222222222,\"#7201a8\"],[0.3333333333333333,\"#9c179e\"],[0.4444444444444444,\"#bd3786\"],[0.5555555555555556,\"#d8576b\"],[0.6666666666666666,\"#ed7953\"],[0.7777777777777778,\"#fb9f3a\"],[0.8888888888888888,\"#fdca26\"],[1.0,\"#f0f921\"]]}],\"contourcarpet\":[{\"type\":\"contourcarpet\",\"colorbar\":{\"outlinewidth\":0,\"ticks\":\"\"}}],\"contour\":[{\"type\":\"contour\",\"colorbar\":{\"outlinewidth\":0,\"ticks\":\"\"},\"colorscale\":[[0.0,\"#0d0887\"],[0.1111111111111111,\"#46039f\"],[0.2222222222222222,\"#7201a8\"],[0.3333333333333333,\"#9c179e\"],[0.4444444444444444,\"#bd3786\"],[0.5555555555555556,\"#d8576b\"],[0.6666666666666666,\"#ed7953\"],[0.7777777777777778,\"#fb9f3a\"],[0.8888888888888888,\"#fdca26\"],[1.0,\"#f0f921\"]]}],\"surface\":[{\"type\":\"surface\",\"colorbar\":{\"outlinewidth\":0,\"ticks\":\"\"},\"colorscale\":[[0.0,\"#0d0887\"],[0.1111111111111111,\"#46039f\"],[0.2222222222222222,\"#7201a8\"],[0.3333333333333333,\"#9c179e\"],[0.4444444444444444,\"#bd3786\"],[0.5555555555555556,\"#d8576b\"],[0.6666666666666666,\"#ed7953\"],[0.7777777777777778,\"#fb9f3a\"],[0.8888888888888888,\"#fdca26\"],[1.0,\"#f0f921\"]]}],\"mesh3d\":[{\"type\":\"mesh3d\",\"colorbar\":{\"outlinewidth\":0,\"ticks\":\"\"}}],\"scatter\":[{\"fillpattern\":{\"fillmode\":\"overlay\",\"size\":10,\"solidity\":0.2},\"type\":\"scatter\"}],\"parcoords\":[{\"type\":\"parcoords\",\"line\":{\"colorbar\":{\"outlinewidth\":0,\"ticks\":\"\"}}}],\"scatterpolargl\":[{\"type\":\"scatterpolargl\",\"marker\":{\"colorbar\":{\"outlinewidth\":0,\"ticks\":\"\"}}}],\"bar\":[{\"error_x\":{\"color\":\"#2a3f5f\"},\"error_y\":{\"color\":\"#2a3f5f\"},\"marker\":{\"line\":{\"color\":\"#E5ECF6\",\"width\":0.5},\"pattern\":{\"fillmode\":\"overlay\",\"size\":10,\"solidity\":0.2}},\"type\":\"bar\"}],\"scattergeo\":[{\"type\":\"scattergeo\",\"marker\":{\"colorbar\":{\"outlinewidth\":0,\"ticks\":\"\"}}}],\"scatterpolar\":[{\"type\":\"scatterpolar\",\"marker\":{\"colorbar\":{\"outlinewidth\":0,\"ticks\":\"\"}}}],\"histogram\":[{\"marker\":{\"pattern\":{\"fillmode\":\"overlay\",\"size\":10,\"solidity\":0.2}},\"type\":\"histogram\"}],\"scattergl\":[{\"type\":\"scattergl\",\"marker\":{\"colorbar\":{\"outlinewidth\":0,\"ticks\":\"\"}}}],\"scatter3d\":[{\"type\":\"scatter3d\",\"line\":{\"colorbar\":{\"outlinewidth\":0,\"ticks\":\"\"}},\"marker\":{\"colorbar\":{\"outlinewidth\":0,\"ticks\":\"\"}}}],\"scattermap\":[{\"type\":\"scattermap\",\"marker\":{\"colorbar\":{\"outlinewidth\":0,\"ticks\":\"\"}}}],\"scattermapbox\":[{\"type\":\"scattermapbox\",\"marker\":{\"colorbar\":{\"outlinewidth\":0,\"ticks\":\"\"}}}],\"scatterternary\":[{\"type\":\"scatterternary\",\"marker\":{\"colorbar\":{\"outlinewidth\":0,\"ticks\":\"\"}}}],\"scattercarpet\":[{\"type\":\"scattercarpet\",\"marker\":{\"colorbar\":{\"outlinewidth\":0,\"ticks\":\"\"}}}],\"carpet\":[{\"aaxis\":{\"endlinecolor\":\"#2a3f5f\",\"gridcolor\":\"white\",\"linecolor\":\"white\",\"minorgridcolor\":\"white\",\"startlinecolor\":\"#2a3f5f\"},\"baxis\":{\"endlinecolor\":\"#2a3f5f\",\"gridcolor\":\"white\",\"linecolor\":\"white\",\"minorgridcolor\":\"white\",\"startlinecolor\":\"#2a3f5f\"},\"type\":\"carpet\"}],\"table\":[{\"cells\":{\"fill\":{\"color\":\"#EBF0F8\"},\"line\":{\"color\":\"white\"}},\"header\":{\"fill\":{\"color\":\"#C8D4E3\"},\"line\":{\"color\":\"white\"}},\"type\":\"table\"}],\"barpolar\":[{\"marker\":{\"line\":{\"color\":\"#E5ECF6\",\"width\":0.5},\"pattern\":{\"fillmode\":\"overlay\",\"size\":10,\"solidity\":0.2}},\"type\":\"barpolar\"}],\"pie\":[{\"automargin\":true,\"type\":\"pie\"}]},\"layout\":{\"autotypenumbers\":\"strict\",\"colorway\":[\"#636efa\",\"#EF553B\",\"#00cc96\",\"#ab63fa\",\"#FFA15A\",\"#19d3f3\",\"#FF6692\",\"#B6E880\",\"#FF97FF\",\"#FECB52\"],\"font\":{\"color\":\"#2a3f5f\"},\"hovermode\":\"closest\",\"hoverlabel\":{\"align\":\"left\"},\"paper_bgcolor\":\"white\",\"plot_bgcolor\":\"#E5ECF6\",\"polar\":{\"bgcolor\":\"#E5ECF6\",\"angularaxis\":{\"gridcolor\":\"white\",\"linecolor\":\"white\",\"ticks\":\"\"},\"radialaxis\":{\"gridcolor\":\"white\",\"linecolor\":\"white\",\"ticks\":\"\"}},\"ternary\":{\"bgcolor\":\"#E5ECF6\",\"aaxis\":{\"gridcolor\":\"white\",\"linecolor\":\"white\",\"ticks\":\"\"},\"baxis\":{\"gridcolor\":\"white\",\"linecolor\":\"white\",\"ticks\":\"\"},\"caxis\":{\"gridcolor\":\"white\",\"linecolor\":\"white\",\"ticks\":\"\"}},\"coloraxis\":{\"colorbar\":{\"outlinewidth\":0,\"ticks\":\"\"}},\"colorscale\":{\"sequential\":[[0.0,\"#0d0887\"],[0.1111111111111111,\"#46039f\"],[0.2222222222222222,\"#7201a8\"],[0.3333333333333333,\"#9c179e\"],[0.4444444444444444,\"#bd3786\"],[0.5555555555555556,\"#d8576b\"],[0.6666666666666666,\"#ed7953\"],[0.7777777777777778,\"#fb9f3a\"],[0.8888888888888888,\"#fdca26\"],[1.0,\"#f0f921\"]],\"sequentialminus\":[[0.0,\"#0d0887\"],[0.1111111111111111,\"#46039f\"],[0.2222222222222222,\"#7201a8\"],[0.3333333333333333,\"#9c179e\"],[0.4444444444444444,\"#bd3786\"],[0.5555555555555556,\"#d8576b\"],[0.6666666666666666,\"#ed7953\"],[0.7777777777777778,\"#fb9f3a\"],[0.8888888888888888,\"#fdca26\"],[1.0,\"#f0f921\"]],\"diverging\":[[0,\"#8e0152\"],[0.1,\"#c51b7d\"],[0.2,\"#de77ae\"],[0.3,\"#f1b6da\"],[0.4,\"#fde0ef\"],[0.5,\"#f7f7f7\"],[0.6,\"#e6f5d0\"],[0.7,\"#b8e186\"],[0.8,\"#7fbc41\"],[0.9,\"#4d9221\"],[1,\"#276419\"]]},\"xaxis\":{\"gridcolor\":\"white\",\"linecolor\":\"white\",\"ticks\":\"\",\"title\":{\"standoff\":15},\"zerolinecolor\":\"white\",\"automargin\":true,\"zerolinewidth\":2},\"yaxis\":{\"gridcolor\":\"white\",\"linecolor\":\"white\",\"ticks\":\"\",\"title\":{\"standoff\":15},\"zerolinecolor\":\"white\",\"automargin\":true,\"zerolinewidth\":2},\"scene\":{\"xaxis\":{\"backgroundcolor\":\"#E5ECF6\",\"gridcolor\":\"white\",\"linecolor\":\"white\",\"showbackground\":true,\"ticks\":\"\",\"zerolinecolor\":\"white\",\"gridwidth\":2},\"yaxis\":{\"backgroundcolor\":\"#E5ECF6\",\"gridcolor\":\"white\",\"linecolor\":\"white\",\"showbackground\":true,\"ticks\":\"\",\"zerolinecolor\":\"white\",\"gridwidth\":2},\"zaxis\":{\"backgroundcolor\":\"#E5ECF6\",\"gridcolor\":\"white\",\"linecolor\":\"white\",\"showbackground\":true,\"ticks\":\"\",\"zerolinecolor\":\"white\",\"gridwidth\":2}},\"shapedefaults\":{\"line\":{\"color\":\"#2a3f5f\"}},\"annotationdefaults\":{\"arrowcolor\":\"#2a3f5f\",\"arrowhead\":0,\"arrowwidth\":1},\"geo\":{\"bgcolor\":\"white\",\"landcolor\":\"#E5ECF6\",\"subunitcolor\":\"white\",\"showland\":true,\"showlakes\":true,\"lakecolor\":\"white\"},\"title\":{\"x\":0.05},\"mapbox\":{\"style\":\"light\"}}},\"xaxis\":{\"anchor\":\"y\",\"domain\":[0.0,1.0],\"title\":{\"text\":\"x\"}},\"yaxis\":{\"anchor\":\"x\",\"domain\":[0.0,1.0],\"title\":{\"text\":\"y\"}},\"legend\":{\"tracegroupgap\":0},\"margin\":{\"t\":60}},                        {\"responsive\": true}                    ).then(function(){\n",
       "                            \n",
       "var gd = document.getElementById('a8b6c4ef-4c04-48af-a4a7-b23b5125067e');\n",
       "var x = new MutationObserver(function (mutations, observer) {{\n",
       "        var display = window.getComputedStyle(gd).display;\n",
       "        if (!display || display === 'none') {{\n",
       "            console.log([gd, 'removed!']);\n",
       "            Plotly.purge(gd);\n",
       "            observer.disconnect();\n",
       "        }}\n",
       "}});\n",
       "\n",
       "// Listen for the removal of the full notebook cells\n",
       "var notebookContainer = gd.closest('#notebook-container');\n",
       "if (notebookContainer) {{\n",
       "    x.observe(notebookContainer, {childList: true});\n",
       "}}\n",
       "\n",
       "// Listen for the clearing of the current output cell\n",
       "var outputEl = gd.closest('.output');\n",
       "if (outputEl) {{\n",
       "    x.observe(outputEl, {childList: true});\n",
       "}}\n",
       "\n",
       "                        })                };            </script>        </div>\n",
       "</body>\n",
       "</html>"
      ]
     },
     "metadata": {},
     "output_type": "display_data"
    }
   ],
   "source": [
    "# Graficar los embedddings en 2D\n",
    "import plotly.graph_objects as go\n",
    "import plotly.express as px\n",
    "\n",
    "vecs, labels = reduce_dimensions(w2v_model)\n",
    "\n",
    "MAX_WORDS=200\n",
    "fig = px.scatter(x=vecs[:MAX_WORDS,0], y=vecs[:MAX_WORDS,1], text=labels[:MAX_WORDS])\n",
    "fig.show(renderer=\"colab\") # esto para plotly en colab"
   ]
  },
  {
   "cell_type": "code",
   "execution_count": 42,
   "metadata": {},
   "outputs": [
    {
     "data": {
      "text/html": [
       "<html>\n",
       "<head><meta charset=\"utf-8\" /></head>\n",
       "<body>\n",
       "    <div>            <script src=\"https://cdnjs.cloudflare.com/ajax/libs/mathjax/2.7.5/MathJax.js?config=TeX-AMS-MML_SVG\"></script><script type=\"text/javascript\">if (window.MathJax && window.MathJax.Hub && window.MathJax.Hub.Config) {window.MathJax.Hub.Config({SVG: {font: \"STIX-Web\"}});}</script>                <script type=\"text/javascript\">window.PlotlyConfig = {MathJaxConfig: 'local'};</script>\n",
       "        <script charset=\"utf-8\" src=\"https://cdn.plot.ly/plotly-3.0.1.min.js\"></script>                <div id=\"23399e1a-ed6e-4a90-ab08-5f064caa25b4\" class=\"plotly-graph-div\" style=\"height:525px; width:100%;\"></div>            <script type=\"text/javascript\">                window.PLOTLYENV=window.PLOTLYENV || {};                                if (document.getElementById(\"23399e1a-ed6e-4a90-ab08-5f064caa25b4\")) {                    Plotly.newPlot(                        \"23399e1a-ed6e-4a90-ab08-5f064caa25b4\",                        [{\"hovertemplate\":\"x=%{x}\\u003cbr\\u003ey=%{y}\\u003cbr\\u003ez=%{z}\\u003cbr\\u003etext=%{text}\\u003cextra\\u003e\\u003c\\u002fextra\\u003e\",\"legendgroup\":\"\",\"marker\":{\"color\":\"#636efa\",\"symbol\":\"circle\",\"size\":2},\"mode\":\"markers+text\",\"name\":\"\",\"scene\":\"scene\",\"showlegend\":false,\"text\":[\"you\",\"i\",\"the\",\"to\",\"and\",\"love\",\"a\",\"me\",\"in\",\"all\",\"nah\",\"my\",\"it\",\"know\",\"that\",\"be\",\"on\",\"of\",\"she\",\"is\",\"say\",\"now\",\"oh\",\"your\",\"yeah\",\"get\",\"don't\",\"back\",\"with\",\"let\",\"her\",\"can\",\"it's\",\"do\",\"when\",\"come\",\"i'm\",\"will\",\"he\",\"but\",\"for\",\"so\",\"there\",\"need\",\"like\",\"together\",\"no\",\"i'll\",\"see\",\"we\",\"was\",\"never\",\"down\",\"if\",\"way\",\"want\",\"hey\",\"out\",\"one\",\"got\",\"can't\",\"girl\",\"well\",\"good\",\"go\",\"sun\",\"his\",\"hello\",\"home\",\"they\",\"day\",\"are\",\"ah\",\"right\",\"from\",\"little\",\"at\",\"man\",\"help\",\"here\",\"have\",\"gonna\",\"not\",\"world\",\"what\",\"going\",\"how\",\"please\",\"still\",\"too\",\"just\",\"you're\",\"time\",\"as\",\"make\",\"long\",\"yes\",\"yellow\",\"life\",\"once\",\"sky\",\"been\",\"think\",\"tell\",\"why\",\"only\",\"where\",\"people\",\"she's\",\"eyes\",\"jude\",\"take\",\"submarine\",\"up\",\"hold\",\"goodbye\",\"give\",\"nowhere\",\"sing\",\"look\",\"friends\",\"always\",\"hand\",\"boy\",\"we're\",\"am\",\"away\",\"darling\",\"goo\",\"nothing\",\"should\",\"lonely\",\"could\",\"feel\",\"some\",\"night\",\"comes\",\"had\",\"would\",\"better\",\"head\",\"them\",\"four\",\"buy\",\"more\",\"i've\",\"la\",\"mind\",\"two\",\"this\",\"everything\",\"carry\",\"by\",\"our\",\"sunshine\",\"weight\",\"change\",\"us\",\"lucy\",\"birthday\",\"an\",\"true\",\"you'll\",\"every\",\"pretty\",\"three\",\"diamonds\",\"before\",\"believe\",\"these\",\"i'd\",\"words\",\"mm\",\"work\",\"dear\",\"leave\",\"were\",\"mine\",\"there's\",\"nobody\",\"told\",\"money\",\"bom\",\"said\",\"forever\",\"round\",\"children\",\"'cause\",\"something\",\"about\",\"waiting\",\"standing\",\"who\",\"didn't\",\"try\",\"loves\",\"then\",\"hide\",\"saw\",\"prudence\"],\"x\":{\"dtype\":\"f4\",\"bdata\":\"8MP0QWcHo0HyDGs\\u002fIdX1wPxbC0GhAwFCCxehwCbDlkHs8zLA3BE\\u002fwQtxccEwfHhBQrqWwKOoSUGfuL5B9kURQOlr88Aa1cvAyIEewbB3P0FkGFxB3jkZwQgh1EFbmHxB+gpTwcNet8FvFilBh+27wbLggECbB0VAZ7BMQbqubEFuFqdB7rTmQf3B0EHumwfB2rbtQQy2xUEaGBZBpDEqQXhul0HktpJBE08vwdvp+EF25x\\u002fA8IP\\u002fwIjswkH6FBtBexJqQbNQvsFZ7GPBo7GXQYFoSkD37LBB0h+LweQcpEEDRyDBimCKv6z47kEipEa\\u002fnnCWQetWCMJx+Nq\\u002ffv3MwddZ5sGyLAFBoUM5wW1NNkG9f7XB5wXDwcjYt8EYbANBTk74wdWkLcFJHfJADyQDQSk\\u002f78EdTqLBaLs9QcbB9kA\\u002fZo9AyNzkQXSooUGUZq1B8dinQZi2xr899PFAUma7wH7l4kF2ndRBkA6svFBsv0HeP8BBARkCQEFKFcBOebxBzloPQSjyqcHvd09B1uSPwZWniECITmxAdsmVQUV9ykF\\u002fpEBB2\\u002f9jQZ4zj8FhdsjBaRX9wSNhSMAqwS7B+tKTQEzvncGBfIrA7KyVQb68GUFsUadAAmd0wavqhEGqX\\u002fjBivA0QXgnl0AGz4NBMYaiQUg2TMGE+pRA6uCCQSCci8ENg9zBebX4QadQ7kCN9OHBd\\u002fRKQUv7HkHpVHVAxpT\\u002fP7ewpUA7i5HBlbdwQZr7scDkgdTAMEUJP5ruzsHPm69BdPFDvz9ijkCzWM3BcOghQSA6qcH4v0ZBKyq4QEPnw0FD5hnB5lyGwSzKssFwWstBwEPIQWgm4cAFrTo\\u002fwTt8QfWpTMAFPIhAfp09QfIXdsF6ZFPBFxy+wY4lhkD6BqNBHjWuQafebUBj\\u002fGhB7YnDwMaCyMGzQQu\\u002ffq0jP4CxEkEuCWjA1JeMwQbL00EN1IvAu5TGQY56p0FtY9q\\u002f7HeTQFivU0HTzWVBjDPKwXRAyEG3WsNATdG0P\\u002fVvYkEGC+DBun2Cwa8xwUHrRCPBMMkxwXecl8HMkzVAleIuQcQnuT0=\"},\"y\":{\"dtype\":\"f4\",\"bdata\":\"eOZHwVk6WcEvYiBBfhWlwXhy1EFhUCDBrL2YQe+MlcHKWOA+SORJwdPbPUFWYgjB1G7xwVSyYsHReD1B8S3iwZqOosFR8jhBsTBBQGy62kAejlbBo5xkwcKVAME167zBXf4wwDKGucHG4I\\u002fBulvNwffLbz\\u002fK283BsX+HwUSN40A9j4I\\u002f9n2wwHVUiMFvTKjB4Z+Iv5S+bsFZqhVB+N3VQBZAm0HM0FvB13XzwdRAb8Gz68jA3haOwXXXCD6I98TBftRpwS410kCr5OfB3+22vyOpqsGPfqvAzXuxwd5brcGHijNBD+aIwRzzFEGuSgtBnxODQY5OisBYti7BmvmSQYgmKkGs9JdBomwjv6DpicFgBKnBCA0fwcPZrkEryglBviS2v7kUgMGyuFPBzao9wW+zwMDjUKZAmlqAweL+sEG2M1VBykPZQKMqIUFUgdQ\\u002f3giCwIKK1cHhGCLBPlbTwCulhMECkINBS\\u002fw2QESRxkDBS4pBwuKeQTOggMFyrYdBogGZwIQV2T5w2yDA\\u002f8r1weFC3kDfvshBc3sowSRnj8EdVYfBKu+gQRaD2MFHXx3BlqhdwH+UgL\\u002ffKWdBGWWUwXcMREBYifDAgTzUwR1teMHz9UFBFsjpPz2WeEFIv4fAEF5MwXeJ3cHwBrvBXRrRQNP7acFnIGvAWiUowR\\u002f3zkE4KaFB2d3iwKs9O8E7NNbAD5icwBgltj5WASFBN4uSQXurrEFNehhAoiMjwW9OdcHWiI4+ZfCsQaMfQsHB9WdBXiSHQe27TEFuLhxAiNTjwLitJsF\\u002fV65B82cCQRlYI0EhZZdBuSSgwdovnkE6Nk9BJLKDQJ7gj0ET3YtA9vCHwCyAvcGQL8\\u002fBcqrvwBjHl0HLacxBKLs3wUMOWUD8RWVBAKkxwdBvMEGui6K\\u002fTNqqwRVV50BBsqHBBwGIwfgMesFYSWpB54E3wBfwK8ATALQ\\u002fQ19UwZgDi0G8t\\u002fZBCsUWQdXeeUHAFZk\\u002fpb9RQdPa4L23OSxAMqXpQFNBskGgX\\u002f5AzI+EQJPKVsEifK1BMePPvVv7XcE2\\u002fchAqNvOwPlFmcE=\"},\"z\":{\"dtype\":\"f4\",\"bdata\":\"fKNmQQPy9UFtat3BhC09P6Qx7kA48eZAqE+ywfIwVEEZJQfCWWrqwcDV6UFDJKzBEIJMQclg1UGfjC3AI4ZpQdEKk8EvfvjBC+23QbcswcHaighCuCPbwTNa2kFx1yM\\u002fiTvfQYuiQ78Ex8RBf4WVwBQPD8I8Np9BO2tUwMg4vkGo84lB8muiQcmGoUGNP7LBcc0mwAL8Wz+RIDhB52iSQdQXxMCeI5hBNAQOwZzttkD1kdZBIx3swezkxEFJFSlBS47eQIE9xsFqqvbAliTKQbtLlEHC2mpB3c0RwcZUokB3aOpB7xyfwdJpF0F6f9FBllK5QZeIU0B0UHtBlmQkweHxxcBwAsvBbWDZwUe8GUJUDrfAKYvLPs8mCcGECdi\\u002fOH8jwDNxA8LRHdnBVf34wbGpDcH\\u002foIDBZI7oweHZtsHTUCnAGw9bwbgNTkGcio\\u002fBHlbuQdtrocDJ64tBPNMAQg4ZF0DQJNQ\\u002fz4npQardGMHMqkDA2Q+Bvz6gqkEahgPBGX0VQifx78EZ3NTB4lyNwFiHEMJ7ahfBx3nKQVQvQ0HU+\\u002flB+g+JvmKNLL9CQ5LBbowWQdOA6MEHtfdBnNFdQSZX\\u002fcGEnq\\u002fBzvLRQKpUD0JaYN5B6oezwfrwksHDtcrAIPHSwSrzpkCWLXpAmGAQwcX2ecGj8xpClCSUvgFGtsGah5ZAkcVIQTVA2EEDeZjBKgjqQeubzkHTE+nAxa5OwYUozcGo4z5BogdaQc8QvUGHydHBCtJwQSwDl0H7+LVBdfzAQZSjpUHzhdc\\u002fmZ+6waqlnkGJL4HAXqm8QdPsUMFSx8nBcrRLwXEZOsGNUiXBPnGLwdUWQsHVPhXC7Q9rQZ2210C70QhBbyC2QfJFBME98bzBQGq3Qb\\u002feG8Jm29G+S66XQXdemMHHgBbA5I9hQeMSHkGHY6rBceAlwY\\u002fnQkHnm6HARLGwQIDdC0Fv8v5AQJeHQb\\u002fjnUHyzyVAwRjQPyVFPUEm6W3BBf4HwbnuoL985W3ARVJ0Qc7xBcF8C6FBkJWSwQtkMkFzcuHBouXNQRDDDkGwFOhBF1JLPTEtV8E=\"},\"type\":\"scatter3d\"}],                        {\"template\":{\"data\":{\"histogram2dcontour\":[{\"type\":\"histogram2dcontour\",\"colorbar\":{\"outlinewidth\":0,\"ticks\":\"\"},\"colorscale\":[[0.0,\"#0d0887\"],[0.1111111111111111,\"#46039f\"],[0.2222222222222222,\"#7201a8\"],[0.3333333333333333,\"#9c179e\"],[0.4444444444444444,\"#bd3786\"],[0.5555555555555556,\"#d8576b\"],[0.6666666666666666,\"#ed7953\"],[0.7777777777777778,\"#fb9f3a\"],[0.8888888888888888,\"#fdca26\"],[1.0,\"#f0f921\"]]}],\"choropleth\":[{\"type\":\"choropleth\",\"colorbar\":{\"outlinewidth\":0,\"ticks\":\"\"}}],\"histogram2d\":[{\"type\":\"histogram2d\",\"colorbar\":{\"outlinewidth\":0,\"ticks\":\"\"},\"colorscale\":[[0.0,\"#0d0887\"],[0.1111111111111111,\"#46039f\"],[0.2222222222222222,\"#7201a8\"],[0.3333333333333333,\"#9c179e\"],[0.4444444444444444,\"#bd3786\"],[0.5555555555555556,\"#d8576b\"],[0.6666666666666666,\"#ed7953\"],[0.7777777777777778,\"#fb9f3a\"],[0.8888888888888888,\"#fdca26\"],[1.0,\"#f0f921\"]]}],\"heatmap\":[{\"type\":\"heatmap\",\"colorbar\":{\"outlinewidth\":0,\"ticks\":\"\"},\"colorscale\":[[0.0,\"#0d0887\"],[0.1111111111111111,\"#46039f\"],[0.2222222222222222,\"#7201a8\"],[0.3333333333333333,\"#9c179e\"],[0.4444444444444444,\"#bd3786\"],[0.5555555555555556,\"#d8576b\"],[0.6666666666666666,\"#ed7953\"],[0.7777777777777778,\"#fb9f3a\"],[0.8888888888888888,\"#fdca26\"],[1.0,\"#f0f921\"]]}],\"contourcarpet\":[{\"type\":\"contourcarpet\",\"colorbar\":{\"outlinewidth\":0,\"ticks\":\"\"}}],\"contour\":[{\"type\":\"contour\",\"colorbar\":{\"outlinewidth\":0,\"ticks\":\"\"},\"colorscale\":[[0.0,\"#0d0887\"],[0.1111111111111111,\"#46039f\"],[0.2222222222222222,\"#7201a8\"],[0.3333333333333333,\"#9c179e\"],[0.4444444444444444,\"#bd3786\"],[0.5555555555555556,\"#d8576b\"],[0.6666666666666666,\"#ed7953\"],[0.7777777777777778,\"#fb9f3a\"],[0.8888888888888888,\"#fdca26\"],[1.0,\"#f0f921\"]]}],\"surface\":[{\"type\":\"surface\",\"colorbar\":{\"outlinewidth\":0,\"ticks\":\"\"},\"colorscale\":[[0.0,\"#0d0887\"],[0.1111111111111111,\"#46039f\"],[0.2222222222222222,\"#7201a8\"],[0.3333333333333333,\"#9c179e\"],[0.4444444444444444,\"#bd3786\"],[0.5555555555555556,\"#d8576b\"],[0.6666666666666666,\"#ed7953\"],[0.7777777777777778,\"#fb9f3a\"],[0.8888888888888888,\"#fdca26\"],[1.0,\"#f0f921\"]]}],\"mesh3d\":[{\"type\":\"mesh3d\",\"colorbar\":{\"outlinewidth\":0,\"ticks\":\"\"}}],\"scatter\":[{\"fillpattern\":{\"fillmode\":\"overlay\",\"size\":10,\"solidity\":0.2},\"type\":\"scatter\"}],\"parcoords\":[{\"type\":\"parcoords\",\"line\":{\"colorbar\":{\"outlinewidth\":0,\"ticks\":\"\"}}}],\"scatterpolargl\":[{\"type\":\"scatterpolargl\",\"marker\":{\"colorbar\":{\"outlinewidth\":0,\"ticks\":\"\"}}}],\"bar\":[{\"error_x\":{\"color\":\"#2a3f5f\"},\"error_y\":{\"color\":\"#2a3f5f\"},\"marker\":{\"line\":{\"color\":\"#E5ECF6\",\"width\":0.5},\"pattern\":{\"fillmode\":\"overlay\",\"size\":10,\"solidity\":0.2}},\"type\":\"bar\"}],\"scattergeo\":[{\"type\":\"scattergeo\",\"marker\":{\"colorbar\":{\"outlinewidth\":0,\"ticks\":\"\"}}}],\"scatterpolar\":[{\"type\":\"scatterpolar\",\"marker\":{\"colorbar\":{\"outlinewidth\":0,\"ticks\":\"\"}}}],\"histogram\":[{\"marker\":{\"pattern\":{\"fillmode\":\"overlay\",\"size\":10,\"solidity\":0.2}},\"type\":\"histogram\"}],\"scattergl\":[{\"type\":\"scattergl\",\"marker\":{\"colorbar\":{\"outlinewidth\":0,\"ticks\":\"\"}}}],\"scatter3d\":[{\"type\":\"scatter3d\",\"line\":{\"colorbar\":{\"outlinewidth\":0,\"ticks\":\"\"}},\"marker\":{\"colorbar\":{\"outlinewidth\":0,\"ticks\":\"\"}}}],\"scattermap\":[{\"type\":\"scattermap\",\"marker\":{\"colorbar\":{\"outlinewidth\":0,\"ticks\":\"\"}}}],\"scattermapbox\":[{\"type\":\"scattermapbox\",\"marker\":{\"colorbar\":{\"outlinewidth\":0,\"ticks\":\"\"}}}],\"scatterternary\":[{\"type\":\"scatterternary\",\"marker\":{\"colorbar\":{\"outlinewidth\":0,\"ticks\":\"\"}}}],\"scattercarpet\":[{\"type\":\"scattercarpet\",\"marker\":{\"colorbar\":{\"outlinewidth\":0,\"ticks\":\"\"}}}],\"carpet\":[{\"aaxis\":{\"endlinecolor\":\"#2a3f5f\",\"gridcolor\":\"white\",\"linecolor\":\"white\",\"minorgridcolor\":\"white\",\"startlinecolor\":\"#2a3f5f\"},\"baxis\":{\"endlinecolor\":\"#2a3f5f\",\"gridcolor\":\"white\",\"linecolor\":\"white\",\"minorgridcolor\":\"white\",\"startlinecolor\":\"#2a3f5f\"},\"type\":\"carpet\"}],\"table\":[{\"cells\":{\"fill\":{\"color\":\"#EBF0F8\"},\"line\":{\"color\":\"white\"}},\"header\":{\"fill\":{\"color\":\"#C8D4E3\"},\"line\":{\"color\":\"white\"}},\"type\":\"table\"}],\"barpolar\":[{\"marker\":{\"line\":{\"color\":\"#E5ECF6\",\"width\":0.5},\"pattern\":{\"fillmode\":\"overlay\",\"size\":10,\"solidity\":0.2}},\"type\":\"barpolar\"}],\"pie\":[{\"automargin\":true,\"type\":\"pie\"}]},\"layout\":{\"autotypenumbers\":\"strict\",\"colorway\":[\"#636efa\",\"#EF553B\",\"#00cc96\",\"#ab63fa\",\"#FFA15A\",\"#19d3f3\",\"#FF6692\",\"#B6E880\",\"#FF97FF\",\"#FECB52\"],\"font\":{\"color\":\"#2a3f5f\"},\"hovermode\":\"closest\",\"hoverlabel\":{\"align\":\"left\"},\"paper_bgcolor\":\"white\",\"plot_bgcolor\":\"#E5ECF6\",\"polar\":{\"bgcolor\":\"#E5ECF6\",\"angularaxis\":{\"gridcolor\":\"white\",\"linecolor\":\"white\",\"ticks\":\"\"},\"radialaxis\":{\"gridcolor\":\"white\",\"linecolor\":\"white\",\"ticks\":\"\"}},\"ternary\":{\"bgcolor\":\"#E5ECF6\",\"aaxis\":{\"gridcolor\":\"white\",\"linecolor\":\"white\",\"ticks\":\"\"},\"baxis\":{\"gridcolor\":\"white\",\"linecolor\":\"white\",\"ticks\":\"\"},\"caxis\":{\"gridcolor\":\"white\",\"linecolor\":\"white\",\"ticks\":\"\"}},\"coloraxis\":{\"colorbar\":{\"outlinewidth\":0,\"ticks\":\"\"}},\"colorscale\":{\"sequential\":[[0.0,\"#0d0887\"],[0.1111111111111111,\"#46039f\"],[0.2222222222222222,\"#7201a8\"],[0.3333333333333333,\"#9c179e\"],[0.4444444444444444,\"#bd3786\"],[0.5555555555555556,\"#d8576b\"],[0.6666666666666666,\"#ed7953\"],[0.7777777777777778,\"#fb9f3a\"],[0.8888888888888888,\"#fdca26\"],[1.0,\"#f0f921\"]],\"sequentialminus\":[[0.0,\"#0d0887\"],[0.1111111111111111,\"#46039f\"],[0.2222222222222222,\"#7201a8\"],[0.3333333333333333,\"#9c179e\"],[0.4444444444444444,\"#bd3786\"],[0.5555555555555556,\"#d8576b\"],[0.6666666666666666,\"#ed7953\"],[0.7777777777777778,\"#fb9f3a\"],[0.8888888888888888,\"#fdca26\"],[1.0,\"#f0f921\"]],\"diverging\":[[0,\"#8e0152\"],[0.1,\"#c51b7d\"],[0.2,\"#de77ae\"],[0.3,\"#f1b6da\"],[0.4,\"#fde0ef\"],[0.5,\"#f7f7f7\"],[0.6,\"#e6f5d0\"],[0.7,\"#b8e186\"],[0.8,\"#7fbc41\"],[0.9,\"#4d9221\"],[1,\"#276419\"]]},\"xaxis\":{\"gridcolor\":\"white\",\"linecolor\":\"white\",\"ticks\":\"\",\"title\":{\"standoff\":15},\"zerolinecolor\":\"white\",\"automargin\":true,\"zerolinewidth\":2},\"yaxis\":{\"gridcolor\":\"white\",\"linecolor\":\"white\",\"ticks\":\"\",\"title\":{\"standoff\":15},\"zerolinecolor\":\"white\",\"automargin\":true,\"zerolinewidth\":2},\"scene\":{\"xaxis\":{\"backgroundcolor\":\"#E5ECF6\",\"gridcolor\":\"white\",\"linecolor\":\"white\",\"showbackground\":true,\"ticks\":\"\",\"zerolinecolor\":\"white\",\"gridwidth\":2},\"yaxis\":{\"backgroundcolor\":\"#E5ECF6\",\"gridcolor\":\"white\",\"linecolor\":\"white\",\"showbackground\":true,\"ticks\":\"\",\"zerolinecolor\":\"white\",\"gridwidth\":2},\"zaxis\":{\"backgroundcolor\":\"#E5ECF6\",\"gridcolor\":\"white\",\"linecolor\":\"white\",\"showbackground\":true,\"ticks\":\"\",\"zerolinecolor\":\"white\",\"gridwidth\":2}},\"shapedefaults\":{\"line\":{\"color\":\"#2a3f5f\"}},\"annotationdefaults\":{\"arrowcolor\":\"#2a3f5f\",\"arrowhead\":0,\"arrowwidth\":1},\"geo\":{\"bgcolor\":\"white\",\"landcolor\":\"#E5ECF6\",\"subunitcolor\":\"white\",\"showland\":true,\"showlakes\":true,\"lakecolor\":\"white\"},\"title\":{\"x\":0.05},\"mapbox\":{\"style\":\"light\"}}},\"scene\":{\"domain\":{\"x\":[0.0,1.0],\"y\":[0.0,1.0]},\"xaxis\":{\"title\":{\"text\":\"x\"}},\"yaxis\":{\"title\":{\"text\":\"y\"}},\"zaxis\":{\"title\":{\"text\":\"z\"}}},\"legend\":{\"tracegroupgap\":0},\"margin\":{\"t\":60}},                        {\"responsive\": true}                    ).then(function(){\n",
       "                            \n",
       "var gd = document.getElementById('23399e1a-ed6e-4a90-ab08-5f064caa25b4');\n",
       "var x = new MutationObserver(function (mutations, observer) {{\n",
       "        var display = window.getComputedStyle(gd).display;\n",
       "        if (!display || display === 'none') {{\n",
       "            console.log([gd, 'removed!']);\n",
       "            Plotly.purge(gd);\n",
       "            observer.disconnect();\n",
       "        }}\n",
       "}});\n",
       "\n",
       "// Listen for the removal of the full notebook cells\n",
       "var notebookContainer = gd.closest('#notebook-container');\n",
       "if (notebookContainer) {{\n",
       "    x.observe(notebookContainer, {childList: true});\n",
       "}}\n",
       "\n",
       "// Listen for the clearing of the current output cell\n",
       "var outputEl = gd.closest('.output');\n",
       "if (outputEl) {{\n",
       "    x.observe(outputEl, {childList: true});\n",
       "}}\n",
       "\n",
       "                        })                };            </script>        </div>\n",
       "</body>\n",
       "</html>"
      ]
     },
     "metadata": {},
     "output_type": "display_data"
    }
   ],
   "source": [
    "# Graficar los embedddings en 3D\n",
    "\n",
    "vecs, labels = reduce_dimensions(w2v_model,3)\n",
    "\n",
    "fig = px.scatter_3d(x=vecs[:MAX_WORDS,0], y=vecs[:MAX_WORDS,1], z=vecs[:MAX_WORDS,2],text=labels[:MAX_WORDS])\n",
    "fig.update_traces(marker_size = 2)\n",
    "fig.show(renderer=\"colab\") # esto para plotly en colab"
   ]
  },
  {
   "cell_type": "code",
   "execution_count": 45,
   "metadata": {},
   "outputs": [],
   "source": [
    "# También se pueden guardar los vectores y labels como tsv para graficar en\n",
    "# http://projector.tensorflow.org/\n",
    "\n",
    "\n",
    "vectors = np.asarray(w2v_model.wv.vectors)\n",
    "labels = list(w2v_model.wv.index_to_key)\n",
    "\n",
    "np.savetxt(\"vectors.tsv\", vectors, delimiter=\"\\t\")\n",
    "\n",
    "with open(\"labels.tsv\", \"w\") as fp:\n",
    "    for item in labels:\n",
    "        fp.write(\"%s\\n\" % item)"
   ]
  },
  {
   "cell_type": "markdown",
   "metadata": {
    "id": "yMM_SHSaZ9N-"
   },
   "source": [
    "### Alumno"
   ]
  },
  {
   "cell_type": "markdown",
   "metadata": {
    "id": "WivQZ3ZCZ9N_"
   },
   "source": [
    "- Crear sus propios vectores con Gensim basado en lo visto en clase con otro dataset.\n",
    "- Probar términos de interés y explicar similitudes en el espacio de embeddings (sacar conclusiones entre palabras similitudes y diferencias).\n",
    "- Graficarlos.\n",
    "- Obtener conclusiones."
   ]
  }
 ],
 "metadata": {
  "colab": {
   "collapsed_sections": [],
   "provenance": []
  },
  "kernelspec": {
   "display_name": "ceia-nlp",
   "language": "python",
   "name": "python3"
  },
  "language_info": {
   "codemirror_mode": {
    "name": "ipython",
    "version": 3
   },
   "file_extension": ".py",
   "mimetype": "text/x-python",
   "name": "python",
   "nbconvert_exporter": "python",
   "pygments_lexer": "ipython3",
   "version": "3.10.12"
  }
 },
 "nbformat": 4,
 "nbformat_minor": 4
}
